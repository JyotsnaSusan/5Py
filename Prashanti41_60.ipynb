{
 "cells": [
  {
   "cell_type": "code",
   "execution_count": 1,
   "id": "191bd6b0-5659-4146-ae7e-2faaf169be8c",
   "metadata": {
    "tags": []
   },
   "outputs": [],
   "source": [
    "import numpy as np\n",
    "import pandas as pd\n",
    "import matplotlib.pyplot as plt\n",
    "import seaborn as sns"
   ]
  },
  {
   "cell_type": "code",
   "execution_count": 2,
   "id": "16721b47-fdbe-43b0-bba1-5486923811bb",
   "metadata": {},
   "outputs": [],
   "source": [
    "df_Patients = pd.read_excel(\"HospitalDatabase.xlsx\",\"Patients\")\n",
    "df_EDvisits = pd.read_excel(\"HospitalDatabase.xlsx\",\"EDVisits\")\n",
    "df_AmbulatoryVisits = pd.read_excel(\"HospitalDatabase.xlsx\",\"AmbulatoryVisits\")\n",
    "df_ReadmissionRegistry = pd.read_excel(\"HospitalDatabase.xlsx\",\"ReAdmissionRegistry\")\n",
    "df_Discharges = pd.read_excel(\"HospitalDatabase.xlsx\",\"Discharges\")\n",
    "df_Providers = pd.read_excel(\"HospitalDatabase.xlsx\",\"Providers\")\n",
    "df_EDunique = pd.read_excel(\"HospitalDatabase.xlsx\",\"EDUnique\")"
   ]
  },
  {
   "cell_type": "code",
   "execution_count": null,
   "id": "f4a238eb-6424-4cc9-bd08-ccee2e32aa0e",
   "metadata": {},
   "outputs": [],
   "source": []
  }
 ],
 "metadata": {
  "kernelspec": {
   "display_name": "Python 3 (ipykernel)",
   "language": "python",
   "name": "python3"
  },
  "language_info": {
   "codemirror_mode": {
    "name": "ipython",
    "version": 3
   },
   "file_extension": ".py",
   "mimetype": "text/x-python",
   "name": "python",
   "nbconvert_exporter": "python",
   "pygments_lexer": "ipython3",
   "version": "3.10.9"
  }
 },
 "nbformat": 4,
 "nbformat_minor": 5
}
