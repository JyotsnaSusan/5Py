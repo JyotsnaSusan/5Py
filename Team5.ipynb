{
 "cells": [
  {
   "cell_type": "code",
   "execution_count": 1,
   "id": "191bd6b0-5659-4146-ae7e-2faaf169be8c",
   "metadata": {
    "tags": []
   },
   "outputs": [],
   "source": [
    "import numpy as np \n"
   ]
  },
  {
   "cell_type": "code",
   "execution_count": 1,
   "id": "29a3da1c-f30d-42b9-839e-1ae563c8b7a6",
   "metadata": {
    "tags": []
   },
   "outputs": [],
   "source": [
    "#comment - test"
   ]
  },
  {
   "cell_type": "code",
   "execution_count": null,
   "id": "16721b47-fdbe-43b0-bba1-5486923811bb",
   "metadata": {},
   "outputs": [],
   "source": []
  }
 ],
 "metadata": {
  "kernelspec": {
   "display_name": "Python 3 (ipykernel)",
   "language": "python",
   "name": "python3"
  },
  "language_info": {
   "codemirror_mode": {
    "name": "ipython",
    "version": 3
   },
   "file_extension": ".py",
   "mimetype": "text/x-python",
   "name": "python",
   "nbconvert_exporter": "python",
   "pygments_lexer": "ipython3",
   "version": "3.11.3"
  }
 },
 "nbformat": 4,
 "nbformat_minor": 5
}
