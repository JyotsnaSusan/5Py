{
 "cells": [
  {
   "cell_type": "code",
   "execution_count": 2,
   "id": "aea91ccb-8eef-4bda-adff-a5400ef24ddf",
   "metadata": {
    "tags": []
   },
   "outputs": [],
   "source": [
    "import matplotlib"
   ]
  },
  {
   "cell_type": "code",
   "execution_count": 3,
   "id": "ec7016d4-2f94-47f2-aed7-655bb6d283a5",
   "metadata": {
    "tags": []
   },
   "outputs": [],
   "source": [
    "import matplotlib.pyplot as plt\n",
    "import numpy as np\n",
    "import pandas as pd\n",
    "import seaborn as sns\n",
    "import warnings\n",
    "from datetime import datetime, date\n",
    "import time\n",
    "from datetime import date\n"
   ]
  },
  {
   "cell_type": "code",
   "execution_count": 32,
   "id": "72ce9c48-6493-4a9b-ae10-332bb8d82e6f",
   "metadata": {},
   "outputs": [],
   "source": [
    "df_Patients = pd.read_excel(\"HospitalDatabase.xlsx\",\"Patients\")\n",
    "df_EDvisits = pd.read_excel(\"HospitalDatabase.xlsx\",\"EDVisits\")\n",
    "df_AmbulatoryVisits = pd.read_excel(\"HospitalDatabase.xlsx\",\"AmbulatoryVisits\")\n",
    "df_ReAdmissionRegistry = pd.read_excel(\"HospitalDatabase.xlsx\",\"ReAdmissionRegistry\")\n",
    "df_Discharges = pd.read_excel(\"HospitalDatabase.xlsx\",\"Discharges\")\n",
    "df_Providers = pd.read_excel(\"HospitalDatabase.xlsx\",\"Providers\")\n",
    "df_EDunique = pd.read_excel(\"HospitalDatabase.xlsx\",\"EDUnique\")\n"
   ]
  },
  {
   "cell_type": "code",
   "execution_count": 53,
   "id": "9f3c8d0d-ccb8-4140-8576-3d4b3ba0c994",
   "metadata": {
    "tags": []
   },
   "outputs": [
    {
     "data": {
      "image/png": "[encoded data removed]",
      "text/plain": [
       "<Figure size 1200x800 with 1 Axes>"
      ]
     },
     "metadata": {},
     "output_type": "display_data"
    }
   ],
   "source": [
    "# 41. Plot a graph to show the distribution of expected length of stay.\n",
    "\n",
    "Elos1 = df_ReAdmissionRegistry.hist(column='ExpectedLOS', bins=10, grid=False, figsize=(12,8), color ='red', zorder=2, rwidth=0.9)\n",
    "Elos1 = Elos1[0]\n",
    "for x in Elos1 :\n",
    "    \n",
    "    # Despine\n",
    "    x.spines['right'].set_visible(False)\n",
    "    x.spines['top'].set_visible(False)\n",
    "    x.spines['left'].set_visible(False)\n",
    "\n",
    "    # Switch off ticks\n",
    "    x.tick_params(axis=\"both\", which=\"both\", bottom=\"off\", top=\"off\", labelbottom=\"on\", left=\"off\", right=\"off\", labelleft=\"on\")\n",
    "\n",
    "    # Draw horizontal axis lines\n",
    "    vals = x.get_yticks()\n",
    "    for tick in vals:\n",
    "        x.axhline(y=tick, linestyle='dashed', alpha=0.4, color='#eeeeee', zorder=1)\n",
    "\n",
    "    # Remove title\n",
    "    x.set_title(\"ReAdmissionRegistry\")\n",
    "\n",
    "    # Set x-axis label\n",
    "    x.set_xlabel(\"ExpectedLOS\", labelpad=20, weight='bold', size=12)\n",
    "\n",
    "    # Set y-axis label\n",
    "    x.set_ylabel(\"Patients\", labelpad=20, weight='bold', size=12)\n",
    "   \n",
    "# df_Discharges.hist(column='ExpectedLOS')\n",
    "\n",
    "plt.show()\n"
   ]
  },
  {
   "cell_type": "code",
   "execution_count": 40,
   "id": "748a5970-8088-486b-8481-20733131707a",
   "metadata": {
    "tags": []
   },
   "outputs": [
    {
     "name": "stdout",
     "output_type": "stream",
     "text": [
      "[     PatientID FirstName  LastName             DateOfBirth Gender  \\\n",
      "0            1     Lanni       Sue 1960-01-01 00:00:00.000   Male   \n",
      "1            2       Far     Myers 1985-11-15 02:08:42.090   Male   \n",
      "2            3   Devlin    Michael 1976-04-15 02:52:09.762   Male   \n",
      "3            4   Carmine     Texas 1968-10-15 03:32:13.635   Male   \n",
      "4            5     Tann       Bama 1962-05-01 19:12:58.950   Male   \n",
      "..         ...       ...       ...                     ...    ...   \n",
      "940        941       Wat   Fideler 1986-05-26 00:01:19.761   Male   \n",
      "941        942    Wandie  Baythrop 1970-06-10 21:41:03.814   Male   \n",
      "942        943   Diahann   Smeeton 1983-01-08 21:49:27.884   Male   \n",
      "943        944  Panchito   Sharple 1963-06-05 07:57:05.569   Male   \n",
      "944        945     Walsh    Calvie 1972-08-06 03:40:03.454   Male   \n",
      "\n",
      "                       Race Language  \n",
      "0                     White  English  \n",
      "1                     White  English  \n",
      "2                     White  English  \n",
      "3                     White  English  \n",
      "4                     White  English  \n",
      "..                      ...      ...  \n",
      "940  Black/African-American  English  \n",
      "941  Black/African-American  English  \n",
      "942  Black/African-American  English  \n",
      "943  Black/African-American  English  \n",
      "944  Black/African-American  English  \n",
      "\n",
      "[945 rows x 7 columns],       EDVisitID  PatientID               VisitDate         EDDischargeTime  \\\n",
      "0             1          1 2020-01-01 00:00:00.000 2020-01-01 11:20:22.924   \n",
      "1            12         12 2020-01-01 02:45:40.302 2020-01-02 02:00:00.517   \n",
      "2            13         13 2020-01-01 03:09:24.701 2020-01-01 05:00:20.852   \n",
      "3            14         14 2020-01-01 03:12:19.349 2020-01-01 04:32:29.142   \n",
      "4            15         15 2020-01-01 03:46:32.698 2020-01-01 06:24:52.741   \n",
      "...         ...        ...                     ...                     ...   \n",
      "1194       1183        929 2020-01-15 10:38:42.570 2020-01-16 02:31:52.023   \n",
      "1195       1186        932 2020-01-15 11:52:37.540 2020-01-16 10:19:41.570   \n",
      "1196       1187        933 2020-01-15 12:11:11.678 2020-01-15 16:41:15.223   \n",
      "1197       1188        934 2020-01-15 12:21:46.006 2020-01-15 18:32:21.060   \n",
      "1198       1189        935 2020-01-15 12:51:14.875 2020-01-15 23:40:41.456   \n",
      "\n",
      "      Acuity ReasonForVisit EDDisposition  \n",
      "0          1   Stomach Ache      Admitted  \n",
      "1          2       Migraine      Admitted  \n",
      "2          3   Stomach Ache      Admitted  \n",
      "3          3       Migraine      Admitted  \n",
      "4          3     Chest Pain      Admitted  \n",
      "...      ...            ...           ...  \n",
      "1194       4     Chest Pain    Discharged  \n",
      "1195       1      Pneumonia    Discharged  \n",
      "1196       1      Pneumonia    Discharged  \n",
      "1197       1      Pneumonia    Discharged  \n",
      "1198       1      Pneumonia    Discharged  \n",
      "\n",
      "[1199 rows x 7 columns],      VisitID  PatientMRN  ProviderID DateofVisit           DateScheduled  \\\n",
      "0        202         840          29  2019-03-19 2019-03-13 07:59:24.000   \n",
      "1        436         820          25  2019-03-19 2019-02-24 07:10:31.043   \n",
      "2        794         879          30  2019-04-02 2019-03-19 01:41:55.656   \n",
      "3        799         884          37  2019-03-03 2019-02-25 01:25:39.696   \n",
      "4        515          32          26  2019-03-16 2019-02-20 06:44:59.617   \n",
      "..       ...         ...         ...         ...                     ...   \n",
      "945      788         873           1  2019-03-27 2019-03-10 17:19:48.264   \n",
      "946      703         855          36  2019-03-12 2019-02-19 02:27:52.664   \n",
      "947      481         865          13  2019-05-03 2019-04-25 13:37:57.501   \n",
      "948      398         635          10  2019-02-09 2019-02-08 11:40:35.137   \n",
      "949      695         847          24  2019-03-04 2019-02-05 05:29:30.587   \n",
      "\n",
      "     VisitDepartmentID     VisitType  BloodPressureSystolic  \\\n",
      "0                   10      Physical                  188.0   \n",
      "1                    3     Follow Up                  179.0   \n",
      "2                   11  Telemedicine                  133.0   \n",
      "3                    4  Telemedicine                  132.0   \n",
      "4                   11  Telemedicine                  131.0   \n",
      "..                 ...           ...                    ...   \n",
      "945                  5  Telemedicine                  187.0   \n",
      "946                 10     Follow Up                  182.0   \n",
      "947                 12           New                  150.0   \n",
      "948                  1      Physical                  177.0   \n",
      "949                 12     Follow Up                  165.0   \n",
      "\n",
      "     BloodPressureDiastolic      Pulse VisitStatus  \n",
      "0                144.143427  83.044920     No Show  \n",
      "1                118.876808  90.309544     No Show  \n",
      "2                 98.749563  80.859776     No Show  \n",
      "3                 98.001270  82.184737     No Show  \n",
      "4                 85.115632  89.192362     No Show  \n",
      "..                      ...        ...         ...  \n",
      "945              126.695141  70.049167    Canceled  \n",
      "946              140.703502  73.380812    Canceled  \n",
      "947               84.841197  61.625454    Canceled  \n",
      "948              125.037534  53.287036    Canceled  \n",
      "949              116.879318  56.180317    Canceled  \n",
      "\n",
      "[950 rows x 11 columns],      AdmissionID  PatientID AdmissionDate           DischargeDate  \\\n",
      "0            389          1    2018-01-01 2018-01-04 19:59:31.391   \n",
      "1            635          2    2018-01-01 2018-01-04 21:28:51.898   \n",
      "2            606          3    2018-01-01 2018-01-04 22:28:23.672   \n",
      "3            587          5    2018-01-01 2018-01-05 05:47:04.933   \n",
      "4            640          6    2018-01-01 2018-01-05 14:18:30.029   \n",
      "..           ...        ...           ...                     ...   \n",
      "715          521        738    2018-02-22 2018-03-07 21:22:10.061   \n",
      "716          548        739    2018-02-22 2018-03-08 02:43:18.749   \n",
      "717          509        740    2018-02-22 2018-03-08 09:27:18.377   \n",
      "718          605        741    2018-02-22 2018-03-10 06:06:12.068   \n",
      "719          710        742    2018-02-22 2018-03-10 20:38:30.568   \n",
      "\n",
      "              Service PrimaryDiagnosis  ExpectedLOS  ExpectedMortality  \\\n",
      "0         Hospitalist   Kidney Failure     6.717771           0.010046   \n",
      "1    General Medicine              Flu     3.825969           0.604562   \n",
      "2    General Medicine              Flu     3.382493           0.266137   \n",
      "3    General Medicine              Flu     3.763352           0.307527   \n",
      "4                 ICU    Heart Failure    13.650953           0.408898   \n",
      "..                ...              ...          ...                ...   \n",
      "715        Cardiology              AMI    13.725405           0.388319   \n",
      "716               ICU        Pneumonia    11.355456           0.088518   \n",
      "717       Hospitalist        Pneumonia     4.819882           0.503308   \n",
      "718  General Medicine              Flu     3.123064           0.655870   \n",
      "719  General Medicine         Diabetes     7.195441           0.286439   \n",
      "\n",
      "     ReadmissionFlag  DaysToReadmission  EDVisitAfterDischargeFlag  \n",
      "0                NaN                NaN                        NaN  \n",
      "1                1.0                2.0                        1.0  \n",
      "2                1.0                3.0                        1.0  \n",
      "3                1.0                4.0                        1.0  \n",
      "4                NaN                NaN                        NaN  \n",
      "..               ...                ...                        ...  \n",
      "715              NaN                NaN                        NaN  \n",
      "716              NaN                NaN                        NaN  \n",
      "717              NaN                NaN                        NaN  \n",
      "718              NaN                NaN                        NaN  \n",
      "719              NaN                NaN                        NaN  \n",
      "\n",
      "[720 rows x 11 columns],      AdmissionID  PatientID AdmissionDate           DischargeDate  \\\n",
      "0              1          9    2018-01-01 2018-01-07 18:06:06.408   \n",
      "1            257         93    2018-01-06 2018-01-18 02:59:04.667   \n",
      "2            152        101    2018-01-07 2018-01-11 16:16:06.782   \n",
      "3            361        102    2018-01-07 2018-01-15 04:48:33.134   \n",
      "4            258        103    2018-01-07 2018-01-15 13:32:36.157   \n",
      "..           ...        ...           ...                     ...   \n",
      "715          715        716    2018-02-21 2018-03-06 03:31:05.262   \n",
      "716          698        723    2018-02-22 2018-02-26 15:09:02.584   \n",
      "717          704        724    2018-02-22 2018-02-27 07:59:32.385   \n",
      "718          716        733    2018-02-22 2018-03-05 12:31:55.958   \n",
      "719          710        742    2018-02-22 2018-03-10 20:38:30.568   \n",
      "\n",
      "              Service PrimaryDiagnosis  ExpectedLOS  ExpectedMortality  \n",
      "0          Cardiology              AMI     9.646857           0.061540  \n",
      "1          Cardiology       Broken Leg     6.816558           0.628827  \n",
      "2          Cardiology   Kidney Failure     6.580273           0.573887  \n",
      "3          Cardiology             Afib    12.794536           0.222163  \n",
      "4          Cardiology       Broken Leg     2.639297           0.055468  \n",
      "..                ...              ...          ...                ...  \n",
      "715               ICU    Heart Failure    11.362095           0.370695  \n",
      "716               ICU    Heart Failure    10.262312           0.812930  \n",
      "717  General Medicine        Pneumonia     6.036234           0.094128  \n",
      "718               ICU    Heart Failure    13.323413           0.490892  \n",
      "719  General Medicine         Diabetes     7.195441           0.286439  \n",
      "\n",
      "[720 rows x 8 columns],     ProviderID     ProviderName ProviderSpecialty     ProviderDateOnStaff\n",
      "0            1        Sally Sue        Pediatrics 1993-01-01 00:00:00.000\n",
      "1            2       Mike Myers        Pediatrics 1993-05-02 00:00:17.695\n",
      "2            3   Jordan Michael        Pediatrics 1993-06-24 21:31:46.687\n",
      "3            4        Ted Texas        Pediatrics 1993-12-23 21:33:52.299\n",
      "4            5         Ala Bama        Pediatrics 1995-01-10 02:53:47.838\n",
      "5            6       Harry Kane        Pediatrics 1995-07-21 03:49:03.310\n",
      "6            7        Barry Bar        Pediatrics 1995-11-21 19:30:38.759\n",
      "7            8        Ted Green        Pediatrics 1996-05-30 06:14:52.539\n",
      "8            9        Ted Black        Pediatrics 1997-02-20 08:01:10.211\n",
      "9           10         Fred Man           Surgery 1998-03-17 01:47:18.794\n",
      "10          11     Kim Kimberly           Surgery 1998-05-10 14:47:29.468\n",
      "11          12         Sarah Ab           Surgery 1998-08-18 05:22:40.762\n",
      "12          13  Abigail Marriot           Surgery 1998-11-08 12:25:45.705\n",
      "13          14          Dave Yu           Surgery 1999-06-26 16:18:57.436\n",
      "14          15  Christian Saint           Surgery 2000-08-27 00:12:40.326\n",
      "15          16     Perry Pardon           Surgery 2001-02-13 11:49:17.862\n",
      "16          17     Kent Kendall        Cardiology 2001-12-22 11:18:32.919\n",
      "17          18       Ryan Kevin        Cardiology 2003-01-14 21:16:34.778\n",
      "18          19     Tyler Conner        Cardiology 2003-07-09 02:41:40.410\n",
      "19          20    Bailey Barret        Cardiology 2003-08-20 16:05:50.179\n",
      "20          21      Megan Bonco        Cardiology 2004-02-17 21:22:30.546\n",
      "21          22    Joesph Walter        Cardiology 2005-02-04 11:40:44.121\n",
      "22          23      Walter King        Cardiology 2006-03-12 22:11:58.070\n",
      "23          24        Luke Long        Cardiology 2006-04-28 00:16:36.762\n",
      "24          25      Justin Time       PrimaryCare 2006-06-21 04:46:36.838\n",
      "25          26      Mike Joseph       PrimaryCare 2006-12-29 16:26:41.085\n",
      "26          27   Bridget Brenda       PrimaryCare 2007-06-30 05:53:46.143\n",
      "27          28      Brenda Bing       PrimaryCare 2007-11-18 22:33:55.792\n",
      "28          29    Chandler Bing       PrimaryCare 2007-12-07 23:50:10.442\n",
      "29          30      Joesph Ross       PrimaryCare 2008-11-08 18:06:32.983\n",
      "30          31     Dwight Scott       PrimaryCare 2009-04-18 19:15:44.587\n",
      "31          32  Michael Halpert       PrimaryCare 2009-09-02 00:14:41.441\n",
      "32          33      Pamela Ding       PrimaryCare 2009-11-12 03:59:49.655\n",
      "33          34       Tony Creed       PrimaryCare 2010-04-28 14:11:26.802\n",
      "34          35  Phyllis Stanley       PrimaryCare 2011-05-05 16:06:03.222\n",
      "35          36        Holly Hue       PrimaryCare 2012-06-24 06:55:22.021\n",
      "36          37        Trent Tye       PrimaryCare 2013-01-12 15:32:21.137\n",
      "37          38    Kimberly Cone       PrimaryCare 2013-05-23 05:17:19.360\n",
      "38          39       Harry West       PrimaryCare 2013-07-14 00:22:03.151\n",
      "39          40     Rosie Renter       PrimaryCare 2013-09-11 12:07:55.584,      EDVisitID  PatientID               VisitDate         EDDischargeTime  \\\n",
      "0            1          1 2020-01-01 00:00:00.000 2020-01-01 11:20:22.924   \n",
      "1           12         12 2020-01-01 02:45:40.302 2020-01-02 02:00:00.517   \n",
      "2           13         13 2020-01-01 03:09:24.701 2020-01-01 05:00:20.852   \n",
      "3           14         14 2020-01-01 03:12:19.349 2020-01-01 04:32:29.142   \n",
      "4           15         15 2020-01-01 03:46:32.698 2020-01-01 06:24:52.741   \n",
      "..         ...        ...                     ...                     ...   \n",
      "940       1183        929 2020-01-15 10:38:42.570 2020-01-16 02:31:52.023   \n",
      "941       1186        932 2020-01-15 11:52:37.540 2020-01-16 10:19:41.570   \n",
      "942       1187        933 2020-01-15 12:11:11.678 2020-01-15 16:41:15.223   \n",
      "943       1188        934 2020-01-15 12:21:46.006 2020-01-15 18:32:21.060   \n",
      "944       1189        935 2020-01-15 12:51:14.875 2020-01-15 23:40:41.456   \n",
      "\n",
      "     Acuity ReasonForVisit EDDisposition  \n",
      "0         1   Stomach Ache      Admitted  \n",
      "1         2       Migraine      Admitted  \n",
      "2         3   Stomach Ache      Admitted  \n",
      "3         3       Migraine      Admitted  \n",
      "4         3     Chest Pain      Admitted  \n",
      "..      ...            ...           ...  \n",
      "940       4     Chest Pain    discharged  \n",
      "941       1      Pneumonia    discharged  \n",
      "942       1      Pneumonia    discharged  \n",
      "943       1      Pneumonia    discharged  \n",
      "944       1      Pneumonia    discharged  \n",
      "\n",
      "[945 rows x 7 columns]] \n",
      "\n"
     ]
    }
   ],
   "source": [
    "# 42. Delete the column 'DischargeDispostion' iteratively.\n",
    "\n",
    "sheets = [df_Patients, df_EDvisits, df_AmbulatoryVisits, df_ReAdmissionRegistry, df_Discharges, df_Providers, df_EDunique]\n",
    "#col = 'DischargeDispostion'\n",
    "for df in sheets:\n",
    "    for col in df.columns:\n",
    "        if 'DischargeDisposition' in col:\n",
    "            #df.drop('DischargeDisposition', axis=1, inplace=True)\n",
    "            del df['DischargeDisposition']\n",
    "print(sheets, \"\\n\")\n",
    "\n"
   ]
  },
  {
   "cell_type": "code",
   "execution_count": 77,
   "id": "ce78f2bf-8402-45c5-bdaa-1a688d2082ca",
   "metadata": {
    "tags": []
   },
   "outputs": [
    {
     "ename": "AttributeError",
     "evalue": "'Series' object has no attribute 'merge'",
     "output_type": "error",
     "traceback": [
      "\u001b[1;31m---------------------------------------------------------------------------\u001b[0m",
      "\u001b[1;31mAttributeError\u001b[0m                            Traceback (most recent call last)",
      "Cell \u001b[1;32mIn[77], line 7\u001b[0m\n\u001b[0;32m      4\u001b[0m df_DOB \u001b[38;5;241m=\u001b[39m pd\u001b[38;5;241m.\u001b[39mto_datetime(df_Patients[\u001b[38;5;124m'\u001b[39m\u001b[38;5;124mDateOfBirth\u001b[39m\u001b[38;5;124m'\u001b[39m]) \n\u001b[0;32m      5\u001b[0m df_Admin \u001b[38;5;241m=\u001b[39m pd\u001b[38;5;241m.\u001b[39mto_datetime(df_ReAdmissionRegistry[\u001b[38;5;124m'\u001b[39m\u001b[38;5;124mAdmissionDate\u001b[39m\u001b[38;5;124m'\u001b[39m])\n\u001b[1;32m----> 7\u001b[0m merge_df \u001b[38;5;241m=\u001b[39m df_DOB\u001b[38;5;241m.\u001b[39mmerge(df_Admin, on\u001b[38;5;241m=\u001b[39m\u001b[38;5;124m'\u001b[39m\u001b[38;5;124mPatientID\u001b[39m\u001b[38;5;124m'\u001b[39m)\n\u001b[0;32m      9\u001b[0m merge_df[\u001b[38;5;124m'\u001b[39m\u001b[38;5;124mDateOfBirth\u001b[39m\u001b[38;5;124m'\u001b[39m] \u001b[38;5;241m=\u001b[39m pd\u001b[38;5;241m.\u001b[39mto_datetime(merged_df[\u001b[38;5;124m'\u001b[39m\u001b[38;5;124mDateOfBirth\u001b[39m\u001b[38;5;124m'\u001b[39m])\n\u001b[0;32m     10\u001b[0m merge_df[\u001b[38;5;124m'\u001b[39m\u001b[38;5;124mAdmissionDate\u001b[39m\u001b[38;5;124m'\u001b[39m] \u001b[38;5;241m=\u001b[39m pd\u001b[38;5;241m.\u001b[39mto_datetime(merged_df[\u001b[38;5;124m'\u001b[39m\u001b[38;5;124mAdmissionDate\u001b[39m\u001b[38;5;124m'\u001b[39m])\n",
      "File \u001b[1;32m~\\anaconda3\\Lib\\site-packages\\pandas\\core\\generic.py:5902\u001b[0m, in \u001b[0;36mNDFrame.__getattr__\u001b[1;34m(self, name)\u001b[0m\n\u001b[0;32m   5895\u001b[0m \u001b[38;5;28;01mif\u001b[39;00m (\n\u001b[0;32m   5896\u001b[0m     name \u001b[38;5;129;01mnot\u001b[39;00m \u001b[38;5;129;01min\u001b[39;00m \u001b[38;5;28mself\u001b[39m\u001b[38;5;241m.\u001b[39m_internal_names_set\n\u001b[0;32m   5897\u001b[0m     \u001b[38;5;129;01mand\u001b[39;00m name \u001b[38;5;129;01mnot\u001b[39;00m \u001b[38;5;129;01min\u001b[39;00m \u001b[38;5;28mself\u001b[39m\u001b[38;5;241m.\u001b[39m_metadata\n\u001b[0;32m   5898\u001b[0m     \u001b[38;5;129;01mand\u001b[39;00m name \u001b[38;5;129;01mnot\u001b[39;00m \u001b[38;5;129;01min\u001b[39;00m \u001b[38;5;28mself\u001b[39m\u001b[38;5;241m.\u001b[39m_accessors\n\u001b[0;32m   5899\u001b[0m     \u001b[38;5;129;01mand\u001b[39;00m \u001b[38;5;28mself\u001b[39m\u001b[38;5;241m.\u001b[39m_info_axis\u001b[38;5;241m.\u001b[39m_can_hold_identifiers_and_holds_name(name)\n\u001b[0;32m   5900\u001b[0m ):\n\u001b[0;32m   5901\u001b[0m     \u001b[38;5;28;01mreturn\u001b[39;00m \u001b[38;5;28mself\u001b[39m[name]\n\u001b[1;32m-> 5902\u001b[0m \u001b[38;5;28;01mreturn\u001b[39;00m \u001b[38;5;28mobject\u001b[39m\u001b[38;5;241m.\u001b[39m\u001b[38;5;21m__getattribute__\u001b[39m(\u001b[38;5;28mself\u001b[39m, name)\n",
      "\u001b[1;31mAttributeError\u001b[0m: 'Series' object has no attribute 'merge'"
     ]
    }
   ],
   "source": [
    "# 43. Find the age prone to get stroke.\n",
    "import pandas as pd\n",
    "\n",
    "df_DOB = pd.to_datetime(df_Patients['DateOfBirth']) \n",
    "df_Admin = pd.to_datetime(df_ReAdmissionRegistry['AdmissionDate'])\n",
    "\n",
    "merge_df = df_DOB.merge(df_Admin, on='PatientID')\n",
    "\n",
    "merge_df['DateOfBirth'] = pd.to_datetime(merged_df['DateOfBirth'])\n",
    "merge_df['AdmissionDate'] = pd.to_datetime(merged_df['AdmissionDate'])\n",
    "\n",
    "merged_df['Age'] = (merged_df['AdmissionDate'] - merged_df['DateOfBirth']).dt.days// 365\n",
    " \n",
    "print(merged_df)\n",
    "\n"
   ]
  },
  {
   "cell_type": "code",
   "execution_count": 114,
   "id": "d84e6696-71c4-4742-99b5-273f067fa81d",
   "metadata": {
    "tags": []
   },
   "outputs": [
    {
     "data": {
      "image/png": "[encoded data removed]",
      "text/plain": [
       "<Figure size 640x480 with 1 Axes>"
      ]
     },
     "metadata": {},
     "output_type": "display_data"
    }
   ],
   "source": [
    "# 44. Create a bar chart by making list on Acuity & EDDisposition column (with no duplicates) & make the hatchs onto the bar by using set_hatch() method.\n",
    "# u_acuity = np.unique(df_EDunique['Acuity'])\n",
    "# u_ED = np.unique(df_EDunique['EDDisposition'])\n",
    "\n",
    "plt.bar(x = df_EDunique['Acuity'], height = df_EDunique['EDDisposition'], edgecolor='black', hatch='/')\n",
    "plt.show()\n",
    "\n",
    "#print(df_EDunique[['Acuity', 'EDDisposition']]).unique()"
   ]
  },
  {
   "cell_type": "code",
   "execution_count": null,
   "id": "fa5372da-64fd-4efb-b917-91500bc86412",
   "metadata": {},
   "outputs": [],
   "source": [
    "# 45. Usage of Enumeration in Python with any example."
   ]
  },
  {
   "cell_type": "code",
   "execution_count": null,
   "id": "c127c207-ab02-4d59-a2f0-a2f175f74e43",
   "metadata": {},
   "outputs": [],
   "source": [
    "# 46. Create a heat map to show the correlation between the column values of Edvisits."
   ]
  },
  {
   "cell_type": "code",
   "execution_count": null,
   "id": "5c4b94d1-e23c-416d-a8e1-5cce3456788d",
   "metadata": {},
   "outputs": [],
   "source": [
    "# 47. Create a WordCloud Chart with Reason For Visit."
   ]
  },
  {
   "cell_type": "code",
   "execution_count": null,
   "id": "3581c512-777c-47ac-8e89-181b5f8f308a",
   "metadata": {},
   "outputs": [],
   "source": [
    "# 48. List male patients over the age of 60 who have undergone surgery from January-March 2019."
   ]
  },
  {
   "cell_type": "code",
   "execution_count": null,
   "id": "e7e39e33-cb77-4b52-8efb-5ffff2a59be9",
   "metadata": {},
   "outputs": [],
   "source": [
    "# 49. Create a dataframe with acuity and EDDisposition as the indices and the count of number of patients as the value."
   ]
  },
  {
   "cell_type": "code",
   "execution_count": 9,
   "id": "dc15c22d-8cd4-4cd6-bb61-65bfeaf3d8f9",
   "metadata": {
    "tags": []
   },
   "outputs": [
    {
     "data": {
      "text/html": [
       "<div>\n",
       "<style scoped>\n",
       "    .dataframe tbody tr th:only-of-type {\n",
       "        vertical-align: middle;\n",
       "    }\n",
       "\n",
       "    .dataframe tbody tr th {\n",
       "        vertical-align: top;\n",
       "    }\n",
       "\n",
       "    .dataframe thead th {\n",
       "        text-align: right;\n",
       "    }\n",
       "</style>\n",
       "<table border=\"1\" class=\"dataframe\">\n",
       "  <thead>\n",
       "    <tr style=\"text-align: right;\">\n",
       "      <th></th>\n",
       "      <th>FirstName</th>\n",
       "      <th>LastName</th>\n",
       "    </tr>\n",
       "  </thead>\n",
       "  <tbody>\n",
       "    <tr>\n",
       "      <th>101</th>\n",
       "      <td>Gipsy</td>\n",
       "      <td>Frankton</td>\n",
       "    </tr>\n",
       "    <tr>\n",
       "      <th>102</th>\n",
       "      <td>Jethro</td>\n",
       "      <td>Wharin</td>\n",
       "    </tr>\n",
       "    <tr>\n",
       "      <th>103</th>\n",
       "      <td>Viv</td>\n",
       "      <td>Aylward</td>\n",
       "    </tr>\n",
       "    <tr>\n",
       "      <th>104</th>\n",
       "      <td>Swift</td>\n",
       "      <td>Dreschler</td>\n",
       "    </tr>\n",
       "    <tr>\n",
       "      <th>105</th>\n",
       "      <td>Fadel</td>\n",
       "      <td>Jacquemard</td>\n",
       "    </tr>\n",
       "    <tr>\n",
       "      <th>...</th>\n",
       "      <td>...</td>\n",
       "      <td>...</td>\n",
       "    </tr>\n",
       "    <tr>\n",
       "      <th>196</th>\n",
       "      <td>Noam</td>\n",
       "      <td>Laguerre</td>\n",
       "    </tr>\n",
       "    <tr>\n",
       "      <th>197</th>\n",
       "      <td>Arie</td>\n",
       "      <td>Bayless</td>\n",
       "    </tr>\n",
       "    <tr>\n",
       "      <th>198</th>\n",
       "      <td>Janaye</td>\n",
       "      <td>O'Mohun</td>\n",
       "    </tr>\n",
       "    <tr>\n",
       "      <th>199</th>\n",
       "      <td>Fonz</td>\n",
       "      <td>Group</td>\n",
       "    </tr>\n",
       "    <tr>\n",
       "      <th>200</th>\n",
       "      <td>Cummings</td>\n",
       "      <td>Pickup</td>\n",
       "    </tr>\n",
       "  </tbody>\n",
       "</table>\n",
       "<p>100 rows × 2 columns</p>\n",
       "</div>"
      ],
      "text/plain": [
       "    FirstName    LastName\n",
       "101     Gipsy    Frankton\n",
       "102    Jethro      Wharin\n",
       "103       Viv     Aylward\n",
       "104     Swift   Dreschler\n",
       "105     Fadel  Jacquemard\n",
       "..        ...         ...\n",
       "196      Noam    Laguerre\n",
       "197      Arie     Bayless\n",
       "198    Janaye     O'Mohun\n",
       "199      Fonz       Group\n",
       "200  Cummings      Pickup\n",
       "\n",
       "[100 rows x 2 columns]"
      ]
     },
     "execution_count": 9,
     "metadata": {},
     "output_type": "execute_result"
    }
   ],
   "source": [
    "# 50. Using loc, retrieve the firstname and lastname of patients between indices 101 and 200.\n",
    "df_Patients.loc[101:200,['FirstName','LastName']]"
   ]
  },
  {
   "cell_type": "code",
   "execution_count": 118,
   "id": "48b5d01a-1fcd-4fb1-871e-e28064f73052",
   "metadata": {
    "tags": []
   },
   "outputs": [
    {
     "ename": "SyntaxError",
     "evalue": "invalid syntax (1529657369.py, line 1)",
     "output_type": "error",
     "traceback": [
      "\u001b[1;36m  Cell \u001b[1;32mIn[118], line 1\u001b[1;36m\u001b[0m\n\u001b[1;33m    def calculateAge(df_Patients[DateOfBirth]):\u001b[0m\n\u001b[1;37m                                ^\u001b[0m\n\u001b[1;31mSyntaxError\u001b[0m\u001b[1;31m:\u001b[0m invalid syntax\n"
     ]
    }
   ],
   "source": [
    "def calculateAge(df_Patients[DateOfBirth]):\n",
    "def1 visitdate(edvisitdate(df_ReAdmissionRegistry[AdmissionDate]):\n",
    "    age =def1.year - def.year -\n",
    "         (def1.month, deg.day) <\n",
    "         (def.month, def.day))\n",
    " \n",
    "    return age\n",
    "     \n",
    "# Driver code\n",
    "print(calculateAge(date(1997, 2, 3)), \"years\")"
   ]
  }
 ],
 "metadata": {
  "kernelspec": {
   "display_name": "Python 3 (ipykernel)",
   "language": "python",
   "name": "python3"
  },
  "language_info": {
   "codemirror_mode": {
    "name": "ipython",
    "version": 3
   },
   "file_extension": ".py",
   "mimetype": "text/x-python",
   "name": "python",
   "nbconvert_exporter": "python",
   "pygments_lexer": "ipython3",
   "version": "3.11.3"
  }
 },
 "nbformat": 4,
 "nbformat_minor": 5
}
