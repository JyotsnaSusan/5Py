{
 "cells": [
  {
   "cell_type": "code",
   "execution_count": null,
   "id": "8f730f1f-fb31-4e1f-80bf-3a336f85f6da",
   "metadata": {},
   "outputs": [],
   "source": [
    "pip install pandas numpy keras tensorflow"
   ]
  },
  {
   "cell_type": "code",
   "execution_count": 91,
   "id": "fa6f4af9-9ab4-430a-891c-bc803396e04f",
   "metadata": {},
   "outputs": [
    {
     "name": "stdout",
     "output_type": "stream",
     "text": [
      "Collecting imblearn\n",
      "  Downloading imblearn-0.0-py2.py3-none-any.whl (1.9 kB)\n",
      "Requirement already satisfied: imbalanced-learn in c:\\users\\teepa\\appdata\\local\\anaconda3\\lib\\site-packages (from imblearn) (0.10.1)\n",
      "Requirement already satisfied: scikit-learn>=1.0.2 in c:\\users\\teepa\\appdata\\local\\anaconda3\\lib\\site-packages (from imbalanced-learn->imblearn) (1.2.1)\n",
      "Requirement already satisfied: threadpoolctl>=2.0.0 in c:\\users\\teepa\\appdata\\local\\anaconda3\\lib\\site-packages (from imbalanced-learn->imblearn) (2.2.0)\n",
      "Requirement already satisfied: scipy>=1.3.2 in c:\\users\\teepa\\appdata\\local\\anaconda3\\lib\\site-packages (from imbalanced-learn->imblearn) (1.10.0)\n",
      "Requirement already satisfied: joblib>=1.1.1 in c:\\users\\teepa\\appdata\\local\\anaconda3\\lib\\site-packages (from imbalanced-learn->imblearn) (1.1.1)\n",
      "Requirement already satisfied: numpy>=1.17.3 in c:\\users\\teepa\\appdata\\local\\anaconda3\\lib\\site-packages (from imbalanced-learn->imblearn) (1.23.5)\n",
      "Installing collected packages: imblearn\n",
      "Successfully installed imblearn-0.0\n",
      "Note: you may need to restart the kernel to use updated packages.\n"
     ]
    }
   ],
   "source": [
    "pip install imblearn"
   ]
  },
  {
   "cell_type": "code",
   "execution_count": 1,
   "id": "6aab7248-f5d0-4847-967c-5c9947f40766",
   "metadata": {},
   "outputs": [],
   "source": [
    "import pandas as pd\n",
    "import numpy as np\n",
    "import matplotlib.pyplot as plt\n",
    "%matplotlib inline\n",
    "from matplotlib.pylab import rcParams\n",
    "from sklearn.model_selection import train_test_split\n",
    "from sklearn.linear_model import LogisticRegression\n",
    "from sklearn.metrics import classification_report"
   ]
  },
  {
   "cell_type": "code",
   "execution_count": 160,
   "id": "0947791b-524f-4e70-aa8b-0808bc39a559",
   "metadata": {},
   "outputs": [],
   "source": [
    "df_Patients = pd.read_excel(\"HospitalDatabase.xlsx\",\"Patients\")\n",
    "df_AmbulatoryVisits = pd.read_excel(\"HospitalDatabase.xlsx\",\"AmbulatoryVisits\")\n",
    "df_ReadmissionRegistry = pd.read_excel(\"HospitalDatabase.xlsx\",\"ReAdmissionRegistry\")"
   ]
  },
  {
   "cell_type": "code",
   "execution_count": 161,
   "id": "646cdfc6-122f-4979-a3ab-d4f2a7102d82",
   "metadata": {},
   "outputs": [],
   "source": [
    "df_Vitals= pd.merge(df_AmbulatoryVisits,df_ReadmissionRegistry, left_on='PatientMRN', right_on='PatientID', how='inner').drop(columns=['ProviderID','DateofVisit','DateScheduled','VisitDepartmentID','VisitType','VisitStatus','AdmissionID','AdmissionDate','DischargeDate','DischargeDisposition','Service','ReadmissionFlag','DaysToReadmission','EDVisitAfterDischargeFlag','VisitID'])"
   ]
  },
  {
   "cell_type": "code",
   "execution_count": 162,
   "id": "ba049f44-eb16-446b-af98-10b7ef29e37d",
   "metadata": {},
   "outputs": [
    {
     "data": {
      "text/html": [
       "<div>\n",
       "<style scoped>\n",
       "    .dataframe tbody tr th:only-of-type {\n",
       "        vertical-align: middle;\n",
       "    }\n",
       "\n",
       "    .dataframe tbody tr th {\n",
       "        vertical-align: top;\n",
       "    }\n",
       "\n",
       "    .dataframe thead th {\n",
       "        text-align: right;\n",
       "    }\n",
       "</style>\n",
       "<table border=\"1\" class=\"dataframe\">\n",
       "  <thead>\n",
       "    <tr style=\"text-align: right;\">\n",
       "      <th></th>\n",
       "      <th>PatientMRN</th>\n",
       "      <th>BloodPressureSystolic</th>\n",
       "      <th>BloodPressureDiastolic</th>\n",
       "      <th>Pulse</th>\n",
       "      <th>PatientID</th>\n",
       "      <th>PrimaryDiagnosis</th>\n",
       "      <th>ExpectedLOS</th>\n",
       "      <th>ExpectedMortality</th>\n",
       "    </tr>\n",
       "  </thead>\n",
       "  <tbody>\n",
       "    <tr>\n",
       "      <th>0</th>\n",
       "      <td>32</td>\n",
       "      <td>131.0</td>\n",
       "      <td>85.115632</td>\n",
       "      <td>89.192362</td>\n",
       "      <td>32</td>\n",
       "      <td>Flu</td>\n",
       "      <td>3.328808</td>\n",
       "      <td>0.116046</td>\n",
       "    </tr>\n",
       "    <tr>\n",
       "      <th>1</th>\n",
       "      <td>32</td>\n",
       "      <td>129.0</td>\n",
       "      <td>82.635928</td>\n",
       "      <td>87.336871</td>\n",
       "      <td>32</td>\n",
       "      <td>Flu</td>\n",
       "      <td>3.328808</td>\n",
       "      <td>0.116046</td>\n",
       "    </tr>\n",
       "    <tr>\n",
       "      <th>2</th>\n",
       "      <td>32</td>\n",
       "      <td>151.0</td>\n",
       "      <td>104.838495</td>\n",
       "      <td>74.110878</td>\n",
       "      <td>32</td>\n",
       "      <td>Flu</td>\n",
       "      <td>3.328808</td>\n",
       "      <td>0.116046</td>\n",
       "    </tr>\n",
       "    <tr>\n",
       "      <th>3</th>\n",
       "      <td>662</td>\n",
       "      <td>170.0</td>\n",
       "      <td>136.823330</td>\n",
       "      <td>57.369963</td>\n",
       "      <td>662</td>\n",
       "      <td>Diabetes</td>\n",
       "      <td>2.546736</td>\n",
       "      <td>0.268451</td>\n",
       "    </tr>\n",
       "    <tr>\n",
       "      <th>4</th>\n",
       "      <td>662</td>\n",
       "      <td>161.0</td>\n",
       "      <td>131.039990</td>\n",
       "      <td>69.188644</td>\n",
       "      <td>662</td>\n",
       "      <td>Diabetes</td>\n",
       "      <td>2.546736</td>\n",
       "      <td>0.268451</td>\n",
       "    </tr>\n",
       "    <tr>\n",
       "      <th>...</th>\n",
       "      <td>...</td>\n",
       "      <td>...</td>\n",
       "      <td>...</td>\n",
       "      <td>...</td>\n",
       "      <td>...</td>\n",
       "      <td>...</td>\n",
       "      <td>...</td>\n",
       "      <td>...</td>\n",
       "    </tr>\n",
       "    <tr>\n",
       "      <th>433</th>\n",
       "      <td>76</td>\n",
       "      <td>138.0</td>\n",
       "      <td>80.887780</td>\n",
       "      <td>77.707421</td>\n",
       "      <td>76</td>\n",
       "      <td>Kidney Failure</td>\n",
       "      <td>6.408437</td>\n",
       "      <td>0.016416</td>\n",
       "    </tr>\n",
       "    <tr>\n",
       "      <th>434</th>\n",
       "      <td>76</td>\n",
       "      <td>183.0</td>\n",
       "      <td>116.962195</td>\n",
       "      <td>51.986783</td>\n",
       "      <td>76</td>\n",
       "      <td>Kidney Failure</td>\n",
       "      <td>6.408437</td>\n",
       "      <td>0.016416</td>\n",
       "    </tr>\n",
       "    <tr>\n",
       "      <th>435</th>\n",
       "      <td>76</td>\n",
       "      <td>141.0</td>\n",
       "      <td>78.316189</td>\n",
       "      <td>54.243125</td>\n",
       "      <td>76</td>\n",
       "      <td>Kidney Failure</td>\n",
       "      <td>6.408437</td>\n",
       "      <td>0.016416</td>\n",
       "    </tr>\n",
       "    <tr>\n",
       "      <th>436</th>\n",
       "      <td>28</td>\n",
       "      <td>133.0</td>\n",
       "      <td>91.946750</td>\n",
       "      <td>69.868033</td>\n",
       "      <td>28</td>\n",
       "      <td>Heart Failure</td>\n",
       "      <td>12.053233</td>\n",
       "      <td>0.189589</td>\n",
       "    </tr>\n",
       "    <tr>\n",
       "      <th>437</th>\n",
       "      <td>11</td>\n",
       "      <td>157.0</td>\n",
       "      <td>107.969941</td>\n",
       "      <td>70.918507</td>\n",
       "      <td>11</td>\n",
       "      <td>Pneumonia</td>\n",
       "      <td>12.081905</td>\n",
       "      <td>0.932385</td>\n",
       "    </tr>\n",
       "  </tbody>\n",
       "</table>\n",
       "<p>438 rows × 8 columns</p>\n",
       "</div>"
      ],
      "text/plain": [
       "     PatientMRN  BloodPressureSystolic  BloodPressureDiastolic      Pulse  \\\n",
       "0            32                  131.0               85.115632  89.192362   \n",
       "1            32                  129.0               82.635928  87.336871   \n",
       "2            32                  151.0              104.838495  74.110878   \n",
       "3           662                  170.0              136.823330  57.369963   \n",
       "4           662                  161.0              131.039990  69.188644   \n",
       "..          ...                    ...                     ...        ...   \n",
       "433          76                  138.0               80.887780  77.707421   \n",
       "434          76                  183.0              116.962195  51.986783   \n",
       "435          76                  141.0               78.316189  54.243125   \n",
       "436          28                  133.0               91.946750  69.868033   \n",
       "437          11                  157.0              107.969941  70.918507   \n",
       "\n",
       "     PatientID PrimaryDiagnosis  ExpectedLOS  ExpectedMortality  \n",
       "0           32              Flu     3.328808           0.116046  \n",
       "1           32              Flu     3.328808           0.116046  \n",
       "2           32              Flu     3.328808           0.116046  \n",
       "3          662         Diabetes     2.546736           0.268451  \n",
       "4          662         Diabetes     2.546736           0.268451  \n",
       "..         ...              ...          ...                ...  \n",
       "433         76   Kidney Failure     6.408437           0.016416  \n",
       "434         76   Kidney Failure     6.408437           0.016416  \n",
       "435         76   Kidney Failure     6.408437           0.016416  \n",
       "436         28    Heart Failure    12.053233           0.189589  \n",
       "437         11        Pneumonia    12.081905           0.932385  \n",
       "\n",
       "[438 rows x 8 columns]"
      ]
     },
     "execution_count": 162,
     "metadata": {},
     "output_type": "execute_result"
    }
   ],
   "source": [
    "df_Vitals"
   ]
  },
  {
   "cell_type": "code",
   "execution_count": 163,
   "id": "5dc99475-f535-4f19-b29e-bb2fef4bf884",
   "metadata": {},
   "outputs": [],
   "source": [
    "df_Vitals['Heart Failure'] = np.where(\n",
    "    (df_Vitals['PrimaryDiagnosis'] == 'Heart Failure') | (df_Vitals['PrimaryDiagnosis'] == 'Afib'), 1, 0)"
   ]
  },
  {
   "cell_type": "code",
   "execution_count": 164,
   "id": "837dfd7f-6a0e-45df-9533-283600039e02",
   "metadata": {},
   "outputs": [],
   "source": [
    "df_Vitals['Hypertension'] = np.where(\n",
    "    (df_Vitals['BloodPressureSystolic'] >=120) | (df_Vitals['BloodPressureDiastolic'] >=80) | (df_Vitals['Pulse'] >=70), 1, 0)"
   ]
  },
  {
   "cell_type": "code",
   "execution_count": 165,
   "id": "b504f8b7-e368-4834-af4c-e61f16eca633",
   "metadata": {},
   "outputs": [
    {
     "data": {
      "text/plain": [
       "PatientMRN                 0\n",
       "BloodPressureSystolic     72\n",
       "BloodPressureDiastolic    72\n",
       "Pulse                     72\n",
       "PatientID                  0\n",
       "PrimaryDiagnosis           0\n",
       "ExpectedLOS                0\n",
       "ExpectedMortality          0\n",
       "Heart Failure              0\n",
       "Hypertension               0\n",
       "dtype: int64"
      ]
     },
     "execution_count": 165,
     "metadata": {},
     "output_type": "execute_result"
    }
   ],
   "source": [
    "df_Vitals.isnull().sum()"
   ]
  },
  {
   "cell_type": "code",
   "execution_count": 166,
   "id": "05e32cc9-e51f-4a1a-932e-731a1986bf63",
   "metadata": {},
   "outputs": [],
   "source": [
    "df_Vitals.dropna(subset=['BloodPressureDiastolic'], inplace=True)\n",
    "df_Vitals.dropna(subset=['BloodPressureSystolic'], inplace=True)\n",
    "df_Vitals.dropna(subset=['Pulse'], inplace=True)\n"
   ]
  },
  {
   "cell_type": "code",
   "execution_count": 167,
   "id": "3c7691c7-0a69-473c-a8f7-f2e56efac499",
   "metadata": {},
   "outputs": [],
   "source": [
    "df_Vitals.drop(columns=['PrimaryDiagnosis','PatientID','PatientMRN','ExpectedLOS','ExpectedMortality'],inplace=True)"
   ]
  },
  {
   "cell_type": "code",
   "execution_count": 168,
   "id": "80218657-4016-4ece-921f-9579b0a3a30b",
   "metadata": {},
   "outputs": [
    {
     "data": {
      "text/html": [
       "<div>\n",
       "<style scoped>\n",
       "    .dataframe tbody tr th:only-of-type {\n",
       "        vertical-align: middle;\n",
       "    }\n",
       "\n",
       "    .dataframe tbody tr th {\n",
       "        vertical-align: top;\n",
       "    }\n",
       "\n",
       "    .dataframe thead th {\n",
       "        text-align: right;\n",
       "    }\n",
       "</style>\n",
       "<table border=\"1\" class=\"dataframe\">\n",
       "  <thead>\n",
       "    <tr style=\"text-align: right;\">\n",
       "      <th></th>\n",
       "      <th>BloodPressureSystolic</th>\n",
       "      <th>BloodPressureDiastolic</th>\n",
       "      <th>Pulse</th>\n",
       "      <th>Heart Failure</th>\n",
       "      <th>Hypertension</th>\n",
       "    </tr>\n",
       "  </thead>\n",
       "  <tbody>\n",
       "    <tr>\n",
       "      <th>0</th>\n",
       "      <td>131.0</td>\n",
       "      <td>85.115632</td>\n",
       "      <td>89.192362</td>\n",
       "      <td>0</td>\n",
       "      <td>1</td>\n",
       "    </tr>\n",
       "    <tr>\n",
       "      <th>1</th>\n",
       "      <td>129.0</td>\n",
       "      <td>82.635928</td>\n",
       "      <td>87.336871</td>\n",
       "      <td>0</td>\n",
       "      <td>1</td>\n",
       "    </tr>\n",
       "    <tr>\n",
       "      <th>2</th>\n",
       "      <td>151.0</td>\n",
       "      <td>104.838495</td>\n",
       "      <td>74.110878</td>\n",
       "      <td>0</td>\n",
       "      <td>1</td>\n",
       "    </tr>\n",
       "    <tr>\n",
       "      <th>3</th>\n",
       "      <td>170.0</td>\n",
       "      <td>136.823330</td>\n",
       "      <td>57.369963</td>\n",
       "      <td>0</td>\n",
       "      <td>1</td>\n",
       "    </tr>\n",
       "    <tr>\n",
       "      <th>4</th>\n",
       "      <td>161.0</td>\n",
       "      <td>131.039990</td>\n",
       "      <td>69.188644</td>\n",
       "      <td>0</td>\n",
       "      <td>1</td>\n",
       "    </tr>\n",
       "    <tr>\n",
       "      <th>...</th>\n",
       "      <td>...</td>\n",
       "      <td>...</td>\n",
       "      <td>...</td>\n",
       "      <td>...</td>\n",
       "      <td>...</td>\n",
       "    </tr>\n",
       "    <tr>\n",
       "      <th>433</th>\n",
       "      <td>138.0</td>\n",
       "      <td>80.887780</td>\n",
       "      <td>77.707421</td>\n",
       "      <td>0</td>\n",
       "      <td>1</td>\n",
       "    </tr>\n",
       "    <tr>\n",
       "      <th>434</th>\n",
       "      <td>183.0</td>\n",
       "      <td>116.962195</td>\n",
       "      <td>51.986783</td>\n",
       "      <td>0</td>\n",
       "      <td>1</td>\n",
       "    </tr>\n",
       "    <tr>\n",
       "      <th>435</th>\n",
       "      <td>141.0</td>\n",
       "      <td>78.316189</td>\n",
       "      <td>54.243125</td>\n",
       "      <td>0</td>\n",
       "      <td>1</td>\n",
       "    </tr>\n",
       "    <tr>\n",
       "      <th>436</th>\n",
       "      <td>133.0</td>\n",
       "      <td>91.946750</td>\n",
       "      <td>69.868033</td>\n",
       "      <td>1</td>\n",
       "      <td>1</td>\n",
       "    </tr>\n",
       "    <tr>\n",
       "      <th>437</th>\n",
       "      <td>157.0</td>\n",
       "      <td>107.969941</td>\n",
       "      <td>70.918507</td>\n",
       "      <td>0</td>\n",
       "      <td>1</td>\n",
       "    </tr>\n",
       "  </tbody>\n",
       "</table>\n",
       "<p>366 rows × 5 columns</p>\n",
       "</div>"
      ],
      "text/plain": [
       "     BloodPressureSystolic  BloodPressureDiastolic      Pulse  Heart Failure  \\\n",
       "0                    131.0               85.115632  89.192362              0   \n",
       "1                    129.0               82.635928  87.336871              0   \n",
       "2                    151.0              104.838495  74.110878              0   \n",
       "3                    170.0              136.823330  57.369963              0   \n",
       "4                    161.0              131.039990  69.188644              0   \n",
       "..                     ...                     ...        ...            ...   \n",
       "433                  138.0               80.887780  77.707421              0   \n",
       "434                  183.0              116.962195  51.986783              0   \n",
       "435                  141.0               78.316189  54.243125              0   \n",
       "436                  133.0               91.946750  69.868033              1   \n",
       "437                  157.0              107.969941  70.918507              0   \n",
       "\n",
       "     Hypertension  \n",
       "0               1  \n",
       "1               1  \n",
       "2               1  \n",
       "3               1  \n",
       "4               1  \n",
       "..            ...  \n",
       "433             1  \n",
       "434             1  \n",
       "435             1  \n",
       "436             1  \n",
       "437             1  \n",
       "\n",
       "[366 rows x 5 columns]"
      ]
     },
     "execution_count": 168,
     "metadata": {},
     "output_type": "execute_result"
    }
   ],
   "source": [
    "df_Vitals"
   ]
  },
  {
   "cell_type": "code",
   "execution_count": 214,
   "id": "ba1d7783-3689-40f2-9399-ffe12505c8ba",
   "metadata": {},
   "outputs": [],
   "source": [
    "from imblearn import under_sampling, over_sampling\n",
    "from collections import Counter\n",
    "from imblearn.under_sampling import RandomUnderSampler\n"
   ]
  },
  {
   "cell_type": "code",
   "execution_count": 215,
   "id": "3579fe90-84fd-471d-bda4-7b2ec67f9be0",
   "metadata": {},
   "outputs": [],
   "source": [
    "num_rows_to_drop = df_Vitals[df_Vitals['Heart Failure'] == 0].shape[0] // 4"
   ]
  },
  {
   "cell_type": "code",
   "execution_count": 216,
   "id": "78fd130a-b099-44b7-8a27-95a4eae52409",
   "metadata": {},
   "outputs": [],
   "source": [
    "df_Vitals_balanced = pd.concat([\n",
    "    df_Vitals[df_Vitals['Heart Failure'] == 0].sample(n=num_rows_to_drop, random_state=0),\n",
    "    df_Vitals[df_Vitals['Heart Failure'] == 1]\n",
    "])"
   ]
  },
  {
   "cell_type": "code",
   "execution_count": 217,
   "id": "8da28906-dd49-422c-b47d-1b4e723d0e83",
   "metadata": {},
   "outputs": [],
   "source": [
    "X = df_Vitals_balanced[['Pulse', 'Hypertension','BloodPressureDiastolic','BloodPressureSystolic']]\n",
    "y = df_Vitals_balanced['Heart Failure']\n"
   ]
  },
  {
   "cell_type": "code",
   "execution_count": 227,
   "id": "33677f22-8730-4dfd-bc18-2973c996dd0a",
   "metadata": {},
   "outputs": [],
   "source": [
    "X_train, X_test, y_train, y_test = train_test_split(X, y, test_size=.6, random_state=0)"
   ]
  },
  {
   "cell_type": "code",
   "execution_count": 228,
   "id": "d1d9cbeb-7dfa-4564-a823-59bc9731aefc",
   "metadata": {},
   "outputs": [],
   "source": [
    "undersampler = RandomUnderSampler(sampling_strategy=1, random_state=0)  \n",
    "X_train_resampled, y_train_resampled = undersampler.fit_resample(X_train, y_train)"
   ]
  },
  {
   "cell_type": "code",
   "execution_count": 229,
   "id": "a15881e4-382b-4836-a64c-d7120e415ba4",
   "metadata": {},
   "outputs": [
    {
     "data": {
      "text/html": [
       "<style>#sk-container-id-34 {color: black;background-color: white;}#sk-container-id-34 pre{padding: 0;}#sk-container-id-34 div.sk-toggleable {background-color: white;}#sk-container-id-34 label.sk-toggleable__label {cursor: pointer;display: block;width: 100%;margin-bottom: 0;padding: 0.3em;box-sizing: border-box;text-align: center;}#sk-container-id-34 label.sk-toggleable__label-arrow:before {content: \"▸\";float: left;margin-right: 0.25em;color: #696969;}#sk-container-id-34 label.sk-toggleable__label-arrow:hover:before {color: black;}#sk-container-id-34 div.sk-estimator:hover label.sk-toggleable__label-arrow:before {color: black;}#sk-container-id-34 div.sk-toggleable__content {max-height: 0;max-width: 0;overflow: hidden;text-align: left;background-color: #f0f8ff;}#sk-container-id-34 div.sk-toggleable__content pre {margin: 0.2em;color: black;border-radius: 0.25em;background-color: #f0f8ff;}#sk-container-id-34 input.sk-toggleable__control:checked~div.sk-toggleable__content {max-height: 200px;max-width: 100%;overflow: auto;}#sk-container-id-34 input.sk-toggleable__control:checked~label.sk-toggleable__label-arrow:before {content: \"▾\";}#sk-container-id-34 div.sk-estimator input.sk-toggleable__control:checked~label.sk-toggleable__label {background-color: #d4ebff;}#sk-container-id-34 div.sk-label input.sk-toggleable__control:checked~label.sk-toggleable__label {background-color: #d4ebff;}#sk-container-id-34 input.sk-hidden--visually {border: 0;clip: rect(1px 1px 1px 1px);clip: rect(1px, 1px, 1px, 1px);height: 1px;margin: -1px;overflow: hidden;padding: 0;position: absolute;width: 1px;}#sk-container-id-34 div.sk-estimator {font-family: monospace;background-color: #f0f8ff;border: 1px dotted black;border-radius: 0.25em;box-sizing: border-box;margin-bottom: 0.5em;}#sk-container-id-34 div.sk-estimator:hover {background-color: #d4ebff;}#sk-container-id-34 div.sk-parallel-item::after {content: \"\";width: 100%;border-bottom: 1px solid gray;flex-grow: 1;}#sk-container-id-34 div.sk-label:hover label.sk-toggleable__label {background-color: #d4ebff;}#sk-container-id-34 div.sk-serial::before {content: \"\";position: absolute;border-left: 1px solid gray;box-sizing: border-box;top: 0;bottom: 0;left: 50%;z-index: 0;}#sk-container-id-34 div.sk-serial {display: flex;flex-direction: column;align-items: center;background-color: white;padding-right: 0.2em;padding-left: 0.2em;position: relative;}#sk-container-id-34 div.sk-item {position: relative;z-index: 1;}#sk-container-id-34 div.sk-parallel {display: flex;align-items: stretch;justify-content: center;background-color: white;position: relative;}#sk-container-id-34 div.sk-item::before, #sk-container-id-34 div.sk-parallel-item::before {content: \"\";position: absolute;border-left: 1px solid gray;box-sizing: border-box;top: 0;bottom: 0;left: 50%;z-index: -1;}#sk-container-id-34 div.sk-parallel-item {display: flex;flex-direction: column;z-index: 1;position: relative;background-color: white;}#sk-container-id-34 div.sk-parallel-item:first-child::after {align-self: flex-end;width: 50%;}#sk-container-id-34 div.sk-parallel-item:last-child::after {align-self: flex-start;width: 50%;}#sk-container-id-34 div.sk-parallel-item:only-child::after {width: 0;}#sk-container-id-34 div.sk-dashed-wrapped {border: 1px dashed gray;margin: 0 0.4em 0.5em 0.4em;box-sizing: border-box;padding-bottom: 0.4em;background-color: white;}#sk-container-id-34 div.sk-label label {font-family: monospace;font-weight: bold;display: inline-block;line-height: 1.2em;}#sk-container-id-34 div.sk-label-container {text-align: center;}#sk-container-id-34 div.sk-container {/* jupyter's `normalize.less` sets `[hidden] { display: none; }` but bootstrap.min.css set `[hidden] { display: none !important; }` so we also need the `!important` here to be able to override the default hidden behavior on the sphinx rendered scikit-learn.org. See: https://github.com/scikit-learn/scikit-learn/issues/21755 */display: inline-block !important;position: relative;}#sk-container-id-34 div.sk-text-repr-fallback {display: none;}</style><div id=\"sk-container-id-34\" class=\"sk-top-container\"><div class=\"sk-text-repr-fallback\"><pre>LogisticRegression()</pre><b>In a Jupyter environment, please rerun this cell to show the HTML representation or trust the notebook. <br />On GitHub, the HTML representation is unable to render, please try loading this page with nbviewer.org.</b></div><div class=\"sk-container\" hidden><div class=\"sk-item\"><div class=\"sk-estimator sk-toggleable\"><input class=\"sk-toggleable__control sk-hidden--visually\" id=\"sk-estimator-id-34\" type=\"checkbox\" checked><label for=\"sk-estimator-id-34\" class=\"sk-toggleable__label sk-toggleable__label-arrow\">LogisticRegression</label><div class=\"sk-toggleable__content\"><pre>LogisticRegression()</pre></div></div></div></div></div>"
      ],
      "text/plain": [
       "LogisticRegression()"
      ]
     },
     "execution_count": 229,
     "metadata": {},
     "output_type": "execute_result"
    }
   ],
   "source": [
    "model = LogisticRegression()\n",
    "model.fit(X_train_resampled, y_train_resampled)"
   ]
  },
  {
   "cell_type": "code",
   "execution_count": 230,
   "id": "15e0a85d-610c-4e14-9a48-e74d463f5d02",
   "metadata": {},
   "outputs": [],
   "source": [
    "y_pred = model.predict(X_test)"
   ]
  },
  {
   "cell_type": "code",
   "execution_count": 231,
   "id": "1c7f0c8a-d73e-42e3-aa7d-f7e8badeb29a",
   "metadata": {},
   "outputs": [
    {
     "name": "stdout",
     "output_type": "stream",
     "text": [
      "              precision    recall  f1-score   support\n",
      "\n",
      "           0       0.74      0.48      0.58        52\n",
      "           1       0.23      0.47      0.31        17\n",
      "\n",
      "    accuracy                           0.48        69\n",
      "   macro avg       0.48      0.48      0.44        69\n",
      "weighted avg       0.61      0.48      0.51        69\n",
      "\n"
     ]
    }
   ],
   "source": [
    "print(classification_report(y_test, y_pred))"
   ]
  },
  {
   "cell_type": "code",
   "execution_count": null,
   "id": "fdd3cf9f-95f6-4a43-a233-499f1681dddd",
   "metadata": {},
   "outputs": [],
   "source": []
  },
  {
   "cell_type": "code",
   "execution_count": null,
   "id": "0772b8f1-f3a5-4a4a-b055-3ce28e9b86cc",
   "metadata": {},
   "outputs": [],
   "source": []
  }
 ],
 "metadata": {
  "kernelspec": {
   "display_name": "Python 3 (ipykernel)",
   "language": "python",
   "name": "python3"
  },
  "language_info": {
   "codemirror_mode": {
    "name": "ipython",
    "version": 3
   },
   "file_extension": ".py",
   "mimetype": "text/x-python",
   "name": "python",
   "nbconvert_exporter": "python",
   "pygments_lexer": "ipython3",
   "version": "3.10.9"
  }
 },
 "nbformat": 4,
 "nbformat_minor": 5
}
